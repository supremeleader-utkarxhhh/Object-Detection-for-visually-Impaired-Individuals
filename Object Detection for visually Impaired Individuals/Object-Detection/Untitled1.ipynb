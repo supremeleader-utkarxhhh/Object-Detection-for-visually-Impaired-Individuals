{
 "cells": [
  {
   "cell_type": "code",
   "execution_count": 1,
   "id": "fe662b98-8117-4887-98d9-c3c869f3e001",
   "metadata": {},
   "outputs": [
    {
     "ename": "ModuleNotFoundError",
     "evalue": "No module named 'pyttsx3'",
     "output_type": "error",
     "traceback": [
      "\u001b[1;31m---------------------------------------------------------------------------\u001b[0m",
      "\u001b[1;31mModuleNotFoundError\u001b[0m                       Traceback (most recent call last)",
      "Cell \u001b[1;32mIn[1], line 3\u001b[0m\n\u001b[0;32m      1\u001b[0m \u001b[38;5;66;03m# Import the required module for text  \u001b[39;00m\n\u001b[0;32m      2\u001b[0m \u001b[38;5;66;03m# to speech conversion\u001b[39;00m\n\u001b[1;32m----> 3\u001b[0m \u001b[38;5;28;01mimport\u001b[39;00m \u001b[38;5;21;01mpyttsx3\u001b[39;00m\n\u001b[0;32m      5\u001b[0m \u001b[38;5;66;03m# init function to get an engine instance for the speech synthesis \u001b[39;00m\n\u001b[0;32m      6\u001b[0m engine \u001b[38;5;241m=\u001b[39m pyttsx3\u001b[38;5;241m.\u001b[39minit()\n",
      "\u001b[1;31mModuleNotFoundError\u001b[0m: No module named 'pyttsx3'"
     ]
    }
   ],
   "source": [
    "\n",
    "\n",
    "# Import the required module for text  \n",
    "# to speech conversion\n",
    "import pyttsx3\n",
    " \n",
    "# init function to get an engine instance for the speech synthesis \n",
    "engine = pyttsx3.init()\n",
    " \n",
    "# say method on the engine that passing input text to be spoken\n",
    "engine.say('Hello sir, how may I help you, sir.')\n",
    " \n",
    "# run and wait method, it processes the voice commands. \n",
    "engine.runAndWait()"
   ]
  },
  {
   "cell_type": "code",
   "execution_count": null,
   "id": "31f7f9f9-cc91-4b02-9f5b-9aa69d856e69",
   "metadata": {},
   "outputs": [],
   "source": []
  }
 ],
 "metadata": {
  "kernelspec": {
   "display_name": "Python 3 (ipykernel)",
   "language": "python",
   "name": "python3"
  },
  "language_info": {
   "codemirror_mode": {
    "name": "ipython",
    "version": 3
   },
   "file_extension": ".py",
   "mimetype": "text/x-python",
   "name": "python",
   "nbconvert_exporter": "python",
   "pygments_lexer": "ipython3",
   "version": "3.11.7"
  }
 },
 "nbformat": 4,
 "nbformat_minor": 5
}
